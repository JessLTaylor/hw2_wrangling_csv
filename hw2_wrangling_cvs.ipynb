{
 "cells": [
  {
   "cell_type": "markdown",
   "metadata": {
    "Collapsed": "false"
   },
   "source": [
    "# Homework 2\n",
    "\n",
    "Data wrangling CSV files in excel using python"
   ]
  },
  {
   "cell_type": "markdown",
   "metadata": {
    "Collapsed": "false"
   },
   "source": [
    "## Preliminaries"
   ]
  },
  {
   "cell_type": "code",
   "execution_count": 1,
   "metadata": {
    "Collapsed": "false"
   },
   "outputs": [],
   "source": [
    "# To auto-reload modules in jupyter notebook (so that changes in files *.py doesn't require manual reloading):\n",
    "# https://stackoverflow.com/questions/5364050/reloading-submodules-in-ipython\n",
    "%load_ext autoreload\n",
    "%autoreload 2"
   ]
  },
  {
   "cell_type": "markdown",
   "metadata": {
    "Collapsed": "false"
   },
   "source": [
    "Import commonly used libraries and magic command for inline plotting"
   ]
  },
  {
   "cell_type": "code",
   "execution_count": 2,
   "metadata": {
    "Collapsed": "false"
   },
   "outputs": [],
   "source": [
    "import numpy as np\n",
    "import pandas as pd\n",
    "from glob import glob\n",
    "from pathlib import Path\n",
    "import openpyxl\n",
    "from openpyxl import Workbook"
   ]
  },
  {
   "cell_type": "markdown",
   "metadata": {
    "Collapsed": "false"
   },
   "source": [
    "## Consolidation\n",
    "\n",
    "Gather all the csv files and load them into a single excel document. Each file must be on it's own tab."
   ]
  },
  {
   "cell_type": "code",
   "execution_count": 3,
   "metadata": {
    "Collapsed": "false"
   },
   "outputs": [],
   "source": [
    "wb = Workbook()"
   ]
  },
  {
   "cell_type": "markdown",
   "metadata": {},
   "source": [
    " - Created excel workbook and named in 'BCM.xlsx'"
   ]
  },
  {
   "cell_type": "code",
   "execution_count": 4,
   "metadata": {},
   "outputs": [],
   "source": [
    "ws = wb.active\n",
    "wb.save(\"BCM.xlsx\")"
   ]
  },
  {
   "cell_type": "markdown",
   "metadata": {},
   "source": [
    " - Located current working directory and created a variable to be used in looping."
   ]
  },
  {
   "cell_type": "code",
   "execution_count": 5,
   "metadata": {},
   "outputs": [
    {
     "data": {
      "text/plain": [
       "WindowsPath('C:/Users/JesRay/Documents/AAP_class/HW2/hw2_wrangling_csv/hw2_wrangling_csv')"
      ]
     },
     "execution_count": 5,
     "metadata": {},
     "output_type": "execute_result"
    }
   ],
   "source": [
    "Path.cwd()"
   ]
  },
  {
   "cell_type": "code",
   "execution_count": 6,
   "metadata": {},
   "outputs": [
    {
     "data": {
      "text/plain": [
       "WindowsPath('C:/Users/JesRay/Documents/AAP_class/HW2/hw2_wrangling_csv/hw2_wrangling_csv/data')"
      ]
     },
     "execution_count": 6,
     "metadata": {},
     "output_type": "execute_result"
    }
   ],
   "source": [
    "data_dir = Path.cwd() / \"data\"\n",
    "data_dir"
   ]
  },
  {
   "cell_type": "code",
   "execution_count": 7,
   "metadata": {},
   "outputs": [
    {
     "data": {
      "text/plain": [
       "<generator object Path.rglob at 0x0000028AAA95D8C8>"
      ]
     },
     "execution_count": 7,
     "metadata": {},
     "output_type": "execute_result"
    }
   ],
   "source": [
    "data_dir.rglob('*.csv')"
   ]
  },
  {
   "cell_type": "code",
   "execution_count": 8,
   "metadata": {},
   "outputs": [
    {
     "name": "stdout",
     "output_type": "stream",
     "text": [
      "<class 'pathlib.WindowsPath'>\n"
     ]
    }
   ],
   "source": [
    "print(type(data_dir))"
   ]
  },
  {
   "cell_type": "markdown",
   "metadata": {},
   "source": [
    " - Confirmed all files are accounted for in the directory. "
   ]
  },
  {
   "cell_type": "code",
   "execution_count": 9,
   "metadata": {
    "tags": []
   },
   "outputs": [
    {
     "name": "stdout",
     "output_type": "stream",
     "text": [
      "BCM-E-tCenter-Deep.csv\n",
      "BCM-E-tCenter-Medium.csv\n",
      "BCM-E-tCenter-Shallow.csv\n",
      "BCM-E-tLeft-Deep.csv\n",
      "BCM-E-tLeft-Medium.csv\n",
      "BCM-E-tRight-Deep.csv\n",
      "BCM-E-tRight-Medium.csv\n",
      "BCM-N-tCenter-Deep.csv\n",
      "BCM-N-tCenter-Medium.csv\n",
      "BCM-N-tLeft-Deep.csv\n",
      "BCM-N-tLeft-Medium.csv\n",
      "BCM-N-tRight-Deep.csv\n",
      "BCM-N-tRight-Medium.csv\n",
      "BCM-N-tRight-Shallow.csv\n"
     ]
    }
   ],
   "source": [
    "for f in data_dir.glob('**/*.csv'):\n",
    "     print(f.name)"
   ]
  },
  {
   "cell_type": "markdown",
   "metadata": {},
   "source": [
    " - Read in all csv files using `glob` as a dataframe using `read_csv` and exported to 'BCM.xlsx' file created earlier using `ExcelWriter` and `to_excel`."
   ]
  },
  {
   "cell_type": "code",
   "execution_count": 10,
   "metadata": {},
   "outputs": [],
   "source": [
    "# loop through all the csv files\n",
    "for f in data_dir.glob('*.csv'):\n",
    "    # read each file into a dataframe and name column headers\n",
    "    df = pd.read_csv(f, names=['datetime', 'scale', 'temperature'], parse_dates=[0])\n",
    "   \n",
    "    # append the dataframes to excel one at a time\n",
    "    with pd.ExcelWriter(\"BCM.xlsx\", mode=\"a\", engine=\"openpyxl\") as writer:\n",
    "        # name each sheet the file name wihtout the extension\n",
    "        df.to_excel(writer, sheet_name=f.stem, index=None)"
   ]
  },
  {
   "cell_type": "markdown",
   "metadata": {},
   "source": [
    "## Summarization\n",
    "\n",
    "Add formulas to each sheet showing the minimum, maximum, and average of the temperature values.In addition, compute the minimum and maximum of the datetime field."
   ]
  },
  {
   "cell_type": "code",
   "execution_count": 11,
   "metadata": {},
   "outputs": [],
   "source": [
    "# reopen the workbook\n",
    "wb = openpyxl.load_workbook(\"BCM.xlsx\")"
   ]
  },
  {
   "cell_type": "code",
   "execution_count": 12,
   "metadata": {},
   "outputs": [
    {
     "data": {
      "text/plain": [
       "14"
      ]
     },
     "execution_count": 12,
     "metadata": {},
     "output_type": "execute_result"
    }
   ],
   "source": [
    "# How many worksheets?\n",
    "num_ws = len(wb.worksheets)-1\n",
    "num_ws"
   ]
  },
  {
   "cell_type": "code",
   "execution_count": 13,
   "metadata": {},
   "outputs": [
    {
     "name": "stdout",
     "output_type": "stream",
     "text": [
      "Sheet\n",
      "BCM-E-tCenter-Deep\n",
      "BCM-E-tCenter-Medium\n",
      "BCM-E-tCenter-Shallow\n",
      "BCM-E-tLeft-Deep\n",
      "BCM-E-tLeft-Medium\n",
      "BCM-E-tRight-Deep\n",
      "BCM-E-tRight-Medium\n",
      "BCM-N-tCenter-Deep\n",
      "BCM-N-tCenter-Medium\n",
      "BCM-N-tLeft-Deep\n",
      "BCM-N-tLeft-Medium\n",
      "BCM-N-tRight-Deep\n",
      "BCM-N-tRight-Medium\n",
      "BCM-N-tRight-Shallow\n"
     ]
    }
   ],
   "source": [
    "for sheet in wb:\n",
    "    print(sheet.title)"
   ]
  },
  {
   "cell_type": "code",
   "execution_count": 14,
   "metadata": {
    "tags": []
   },
   "outputs": [],
   "source": [
    "#loop over each sheet\n",
    "for i in range(1, (len(wb.worksheets)-1) +1):\n",
    "    ws = wb.worksheets[i]\n",
    "    #where does the data stop?\n",
    "    last_row = ws.max_row\n",
    "    # Add labels\n",
    "    ws['G2'] = 'min_temp'\n",
    "    ws['G3'] = 'max_temp'\n",
    "    ws['G4'] = 'mean_temp'\n",
    "    ws['G6'] = 'min_date'\n",
    "    ws['G7'] = 'max_date'\n",
    "\n",
    "    # Add formulas\n",
    "    ws['H2'] = f'=MIN(C2:C{last_row})' #min temp\n",
    "    ws['H3'] = f'=MAX(C2:C{last_row})' #max temp\n",
    "    ws['H4'] = f'=AVERAGE(C2:C{last_row})' #mean temp\n",
    "    ws['H6'] = f'=MIN(A2:A{last_row})' #min date\n",
    "    ws['H7'] = f'=MAX(A2:A{last_row})' #max date\n",
    "     \n",
    "    wb.save(\"BCM.xlsx\")"
   ]
  }
 ],
 "metadata": {
  "kernelspec": {
   "display_name": "Python [conda env:aap]",
   "language": "python",
   "name": "conda-env-aap-py"
  },
  "language_info": {
   "codemirror_mode": {
    "name": "ipython",
    "version": 3
   },
   "file_extension": ".py",
   "mimetype": "text/x-python",
   "name": "python",
   "nbconvert_exporter": "python",
   "pygments_lexer": "ipython3",
   "version": "3.7.13"
  },
  "toc-autonumbering": true
 },
 "nbformat": 4,
 "nbformat_minor": 4
}
