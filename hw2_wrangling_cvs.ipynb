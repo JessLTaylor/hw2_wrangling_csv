{
 "cells": [
  {
   "cell_type": "markdown",
   "metadata": {
    "Collapsed": "false"
   },
   "source": [
    "# Homework 2\n",
    "\n",
    "Data wrangling CSV files in excel using python"
   ]
  },
  {
   "cell_type": "markdown",
   "metadata": {
    "Collapsed": "false"
   },
   "source": [
    "## Preliminaries"
   ]
  },
  {
   "cell_type": "code",
   "execution_count": 1,
   "metadata": {
    "Collapsed": "false"
   },
   "outputs": [],
   "source": [
    "# To auto-reload modules in jupyter notebook (so that changes in files *.py doesn't require manual reloading):\n",
    "# https://stackoverflow.com/questions/5364050/reloading-submodules-in-ipython\n",
    "%load_ext autoreload\n",
    "%autoreload 2"
   ]
  },
  {
   "cell_type": "markdown",
   "metadata": {
    "Collapsed": "false"
   },
   "source": [
    "Import commonly used libraries and magic command for inline plotting"
   ]
  },
  {
   "cell_type": "code",
   "execution_count": 2,
   "metadata": {
    "Collapsed": "false"
   },
   "outputs": [],
   "source": [
    "import numpy as np\n",
    "import pandas as pd\n",
    "from glob import glob\n",
    "from pathlib import Path\n"
   ]
  },
  {
   "cell_type": "markdown",
   "metadata": {
    "Collapsed": "false"
   },
   "source": [
    "## Work\n",
    "\n",
    "This is where work gets done."
   ]
  },
  {
   "cell_type": "code",
   "execution_count": 3,
   "metadata": {
    "Collapsed": "false"
   },
   "outputs": [],
   "source": [
    "from openpyxl import Workbook\n",
    "wb = Workbook()"
   ]
  },
  {
   "cell_type": "code",
   "execution_count": 4,
   "metadata": {},
   "outputs": [],
   "source": [
    "ws = wb.active\n",
    "wb.save(\"BCM.xlsx\")"
   ]
  },
  {
   "cell_type": "code",
   "execution_count": 5,
   "metadata": {},
   "outputs": [
    {
     "data": {
      "text/plain": [
       "WindowsPath('C:/Users/JesRay/Documents/AAP_class/HW2/hw2_wrangling_csv/hw2_wrangling_csv')"
      ]
     },
     "execution_count": 5,
     "metadata": {},
     "output_type": "execute_result"
    }
   ],
   "source": [
    "Path.cwd()"
   ]
  },
  {
   "cell_type": "code",
   "execution_count": 6,
   "metadata": {},
   "outputs": [
    {
     "data": {
      "text/plain": [
       "WindowsPath('C:/Users/JesRay/Documents/AAP_class/HW2/hw2_wrangling_csv/hw2_wrangling_csv/data')"
      ]
     },
     "execution_count": 6,
     "metadata": {},
     "output_type": "execute_result"
    }
   ],
   "source": [
    "data_dir = Path.cwd() / \"data\"\n",
    "data_dir"
   ]
  },
  {
   "cell_type": "code",
   "execution_count": 7,
   "metadata": {},
   "outputs": [
    {
     "data": {
      "text/plain": [
       "<generator object Path.rglob at 0x000002AF2C232E48>"
      ]
     },
     "execution_count": 7,
     "metadata": {},
     "output_type": "execute_result"
    }
   ],
   "source": [
    "data_dir.rglob('*.csv')"
   ]
  },
  {
   "cell_type": "code",
   "execution_count": 8,
   "metadata": {},
   "outputs": [
    {
     "name": "stdout",
     "output_type": "stream",
     "text": [
      "<class 'pathlib.WindowsPath'>\n"
     ]
    }
   ],
   "source": [
    "print(type(data_dir))"
   ]
  },
  {
   "cell_type": "code",
   "execution_count": 9,
   "metadata": {
    "tags": []
   },
   "outputs": [
    {
     "name": "stdout",
     "output_type": "stream",
     "text": [
      "BCM-E-tCenter-Deep.csv\n",
      "BCM-E-tCenter-Medium.csv\n",
      "BCM-E-tCenter-Shallow.csv\n",
      "BCM-E-tLeft-Deep.csv\n",
      "BCM-E-tLeft-Medium.csv\n",
      "BCM-E-tRight-Deep.csv\n",
      "BCM-E-tRight-Medium.csv\n",
      "BCM-N-tCenter-Deep.csv\n",
      "BCM-N-tCenter-Medium.csv\n",
      "BCM-N-tLeft-Deep.csv\n",
      "BCM-N-tLeft-Medium.csv\n",
      "BCM-N-tRight-Deep.csv\n",
      "BCM-N-tRight-Medium.csv\n",
      "BCM-N-tRight-Shallow.csv\n"
     ]
    }
   ],
   "source": [
    "for f in data_dir.glob('**/*.csv'):\n",
    "     print(f.name)"
   ]
  },
  {
   "cell_type": "code",
   "execution_count": 10,
   "metadata": {},
   "outputs": [],
   "source": [
    "for f in data_dir.glob('*.csv'):\n",
    "    df = pd.read_csv(f, names=['datetime', 'scale', 'temperature'], parse_dates=[0])\n",
    "    \n",
    "    with pd.ExcelWriter(\"BCM.xlsx\", mode=\"a\", engine=\"openpyxl\") as writer:\n",
    "        df.to_excel(writer, sheet_name=f.stem, index=None)"
   ]
  },
  {
   "cell_type": "code",
   "execution_count": 15,
   "metadata": {
    "collapsed": true,
    "jupyter": {
     "outputs_hidden": true,
     "source_hidden": true
    },
    "tags": []
   },
   "outputs": [
    {
     "data": {
      "text/html": [
       "<div>\n",
       "<style scoped>\n",
       "    .dataframe tbody tr th:only-of-type {\n",
       "        vertical-align: middle;\n",
       "    }\n",
       "\n",
       "    .dataframe tbody tr th {\n",
       "        vertical-align: top;\n",
       "    }\n",
       "\n",
       "    .dataframe thead th {\n",
       "        text-align: right;\n",
       "    }\n",
       "</style>\n",
       "<table border=\"1\" class=\"dataframe\">\n",
       "  <thead>\n",
       "    <tr style=\"text-align: right;\">\n",
       "      <th></th>\n",
       "      <th>File_Name</th>\n",
       "      <th>Parent</th>\n",
       "    </tr>\n",
       "  </thead>\n",
       "  <tbody>\n",
       "    <tr>\n",
       "      <th>0</th>\n",
       "      <td>BCM-E-tCenter-Deep.csv</td>\n",
       "      <td>C:\\Users\\JesRay\\Documents\\AAP_class\\HW2\\hw2_wr...</td>\n",
       "    </tr>\n",
       "    <tr>\n",
       "      <th>1</th>\n",
       "      <td>BCM-E-tCenter-Medium.csv</td>\n",
       "      <td>C:\\Users\\JesRay\\Documents\\AAP_class\\HW2\\hw2_wr...</td>\n",
       "    </tr>\n",
       "    <tr>\n",
       "      <th>2</th>\n",
       "      <td>BCM-E-tCenter-Shallow.csv</td>\n",
       "      <td>C:\\Users\\JesRay\\Documents\\AAP_class\\HW2\\hw2_wr...</td>\n",
       "    </tr>\n",
       "    <tr>\n",
       "      <th>3</th>\n",
       "      <td>BCM-E-tLeft-Deep.csv</td>\n",
       "      <td>C:\\Users\\JesRay\\Documents\\AAP_class\\HW2\\hw2_wr...</td>\n",
       "    </tr>\n",
       "    <tr>\n",
       "      <th>4</th>\n",
       "      <td>BCM-E-tLeft-Medium.csv</td>\n",
       "      <td>C:\\Users\\JesRay\\Documents\\AAP_class\\HW2\\hw2_wr...</td>\n",
       "    </tr>\n",
       "    <tr>\n",
       "      <th>5</th>\n",
       "      <td>BCM-E-tRight-Deep.csv</td>\n",
       "      <td>C:\\Users\\JesRay\\Documents\\AAP_class\\HW2\\hw2_wr...</td>\n",
       "    </tr>\n",
       "    <tr>\n",
       "      <th>6</th>\n",
       "      <td>BCM-E-tRight-Medium.csv</td>\n",
       "      <td>C:\\Users\\JesRay\\Documents\\AAP_class\\HW2\\hw2_wr...</td>\n",
       "    </tr>\n",
       "    <tr>\n",
       "      <th>7</th>\n",
       "      <td>BCM-N-tCenter-Deep.csv</td>\n",
       "      <td>C:\\Users\\JesRay\\Documents\\AAP_class\\HW2\\hw2_wr...</td>\n",
       "    </tr>\n",
       "    <tr>\n",
       "      <th>8</th>\n",
       "      <td>BCM-N-tCenter-Medium.csv</td>\n",
       "      <td>C:\\Users\\JesRay\\Documents\\AAP_class\\HW2\\hw2_wr...</td>\n",
       "    </tr>\n",
       "    <tr>\n",
       "      <th>9</th>\n",
       "      <td>BCM-N-tLeft-Deep.csv</td>\n",
       "      <td>C:\\Users\\JesRay\\Documents\\AAP_class\\HW2\\hw2_wr...</td>\n",
       "    </tr>\n",
       "    <tr>\n",
       "      <th>10</th>\n",
       "      <td>BCM-N-tLeft-Medium.csv</td>\n",
       "      <td>C:\\Users\\JesRay\\Documents\\AAP_class\\HW2\\hw2_wr...</td>\n",
       "    </tr>\n",
       "    <tr>\n",
       "      <th>11</th>\n",
       "      <td>BCM-N-tRight-Deep.csv</td>\n",
       "      <td>C:\\Users\\JesRay\\Documents\\AAP_class\\HW2\\hw2_wr...</td>\n",
       "    </tr>\n",
       "    <tr>\n",
       "      <th>12</th>\n",
       "      <td>BCM-N-tRight-Medium.csv</td>\n",
       "      <td>C:\\Users\\JesRay\\Documents\\AAP_class\\HW2\\hw2_wr...</td>\n",
       "    </tr>\n",
       "    <tr>\n",
       "      <th>13</th>\n",
       "      <td>BCM-N-tRight-Shallow.csv</td>\n",
       "      <td>C:\\Users\\JesRay\\Documents\\AAP_class\\HW2\\hw2_wr...</td>\n",
       "    </tr>\n",
       "  </tbody>\n",
       "</table>\n",
       "</div>"
      ],
      "text/plain": [
       "                    File_Name  \\\n",
       "0      BCM-E-tCenter-Deep.csv   \n",
       "1    BCM-E-tCenter-Medium.csv   \n",
       "2   BCM-E-tCenter-Shallow.csv   \n",
       "3        BCM-E-tLeft-Deep.csv   \n",
       "4      BCM-E-tLeft-Medium.csv   \n",
       "5       BCM-E-tRight-Deep.csv   \n",
       "6     BCM-E-tRight-Medium.csv   \n",
       "7      BCM-N-tCenter-Deep.csv   \n",
       "8    BCM-N-tCenter-Medium.csv   \n",
       "9        BCM-N-tLeft-Deep.csv   \n",
       "10     BCM-N-tLeft-Medium.csv   \n",
       "11      BCM-N-tRight-Deep.csv   \n",
       "12    BCM-N-tRight-Medium.csv   \n",
       "13   BCM-N-tRight-Shallow.csv   \n",
       "\n",
       "                                               Parent  \n",
       "0   C:\\Users\\JesRay\\Documents\\AAP_class\\HW2\\hw2_wr...  \n",
       "1   C:\\Users\\JesRay\\Documents\\AAP_class\\HW2\\hw2_wr...  \n",
       "2   C:\\Users\\JesRay\\Documents\\AAP_class\\HW2\\hw2_wr...  \n",
       "3   C:\\Users\\JesRay\\Documents\\AAP_class\\HW2\\hw2_wr...  \n",
       "4   C:\\Users\\JesRay\\Documents\\AAP_class\\HW2\\hw2_wr...  \n",
       "5   C:\\Users\\JesRay\\Documents\\AAP_class\\HW2\\hw2_wr...  \n",
       "6   C:\\Users\\JesRay\\Documents\\AAP_class\\HW2\\hw2_wr...  \n",
       "7   C:\\Users\\JesRay\\Documents\\AAP_class\\HW2\\hw2_wr...  \n",
       "8   C:\\Users\\JesRay\\Documents\\AAP_class\\HW2\\hw2_wr...  \n",
       "9   C:\\Users\\JesRay\\Documents\\AAP_class\\HW2\\hw2_wr...  \n",
       "10  C:\\Users\\JesRay\\Documents\\AAP_class\\HW2\\hw2_wr...  \n",
       "11  C:\\Users\\JesRay\\Documents\\AAP_class\\HW2\\hw2_wr...  \n",
       "12  C:\\Users\\JesRay\\Documents\\AAP_class\\HW2\\hw2_wr...  \n",
       "13  C:\\Users\\JesRay\\Documents\\AAP_class\\HW2\\hw2_wr...  "
      ]
     },
     "execution_count": 15,
     "metadata": {},
     "output_type": "execute_result"
    }
   ],
   "source": [
    "all_files = []\n",
    "for f in data_dir.rglob('*.csv'):\n",
    "    all_files.append((f.name, f.parent))\n",
    "\n",
    "columns = [\"File_Name\", \"Parent\"]\n",
    "df = pd.DataFrame.from_records(all_files, columns=columns)\n",
    "\n",
    "df"
   ]
  },
  {
   "cell_type": "code",
   "execution_count": 17,
   "metadata": {
    "jupyter": {
     "source_hidden": true
    },
    "tags": []
   },
   "outputs": [],
   "source": [
    "from pandas.io.excel import ExcelWriter\n",
    "\n",
    "with pd.ExcelWriter(\"BCM.xlsx\", mode=\"a\", engine=\"openpyxl\") as writer:\n",
    "    df.to_excel(writer, sheet_name=f.stem)"
   ]
  },
  {
   "cell_type": "code",
   "execution_count": 27,
   "metadata": {
    "jupyter": {
     "source_hidden": true
    },
    "tags": []
   },
   "outputs": [],
   "source": [
    "sheet_1 = pd.read_csv('data/BCM-E-tCenter-Deep.csv', names=('datetime', 'scale', 'temperature'))"
   ]
  },
  {
   "cell_type": "code",
   "execution_count": 28,
   "metadata": {
    "collapsed": true,
    "jupyter": {
     "outputs_hidden": true,
     "source_hidden": true
    },
    "tags": []
   },
   "outputs": [
    {
     "data": {
      "text/html": [
       "<div>\n",
       "<style scoped>\n",
       "    .dataframe tbody tr th:only-of-type {\n",
       "        vertical-align: middle;\n",
       "    }\n",
       "\n",
       "    .dataframe tbody tr th {\n",
       "        vertical-align: top;\n",
       "    }\n",
       "\n",
       "    .dataframe thead th {\n",
       "        text-align: right;\n",
       "    }\n",
       "</style>\n",
       "<table border=\"1\" class=\"dataframe\">\n",
       "  <thead>\n",
       "    <tr style=\"text-align: right;\">\n",
       "      <th></th>\n",
       "      <th>datetime</th>\n",
       "      <th>scale</th>\n",
       "      <th>temperature</th>\n",
       "    </tr>\n",
       "  </thead>\n",
       "  <tbody>\n",
       "    <tr>\n",
       "      <th>0</th>\n",
       "      <td>8/19/2012 12:17</td>\n",
       "      <td>C</td>\n",
       "      <td>20.0</td>\n",
       "    </tr>\n",
       "    <tr>\n",
       "      <th>1</th>\n",
       "      <td>8/19/2012 13:17</td>\n",
       "      <td>C</td>\n",
       "      <td>20.0</td>\n",
       "    </tr>\n",
       "    <tr>\n",
       "      <th>2</th>\n",
       "      <td>8/19/2012 14:17</td>\n",
       "      <td>C</td>\n",
       "      <td>20.5</td>\n",
       "    </tr>\n",
       "    <tr>\n",
       "      <th>3</th>\n",
       "      <td>8/19/2012 15:17</td>\n",
       "      <td>C</td>\n",
       "      <td>21.0</td>\n",
       "    </tr>\n",
       "    <tr>\n",
       "      <th>4</th>\n",
       "      <td>8/19/2012 16:17</td>\n",
       "      <td>C</td>\n",
       "      <td>21.0</td>\n",
       "    </tr>\n",
       "  </tbody>\n",
       "</table>\n",
       "</div>"
      ],
      "text/plain": [
       "          datetime scale  temperature\n",
       "0  8/19/2012 12:17     C         20.0\n",
       "1  8/19/2012 13:17     C         20.0\n",
       "2  8/19/2012 14:17     C         20.5\n",
       "3  8/19/2012 15:17     C         21.0\n",
       "4  8/19/2012 16:17     C         21.0"
      ]
     },
     "execution_count": 28,
     "metadata": {},
     "output_type": "execute_result"
    }
   ],
   "source": [
    "sheet_1.head()"
   ]
  },
  {
   "cell_type": "code",
   "execution_count": null,
   "metadata": {
    "jupyter": {
     "source_hidden": true
    },
    "tags": []
   },
   "outputs": [],
   "source": [
    "for f in data_dir.glob('*.csv'):\n",
    "    print(f\"filename = {f.name}, stem = {f.stem}, suffix = {f.suffix}\")"
   ]
  },
  {
   "cell_type": "code",
   "execution_count": null,
   "metadata": {},
   "outputs": [],
   "source": []
  }
 ],
 "metadata": {
  "kernelspec": {
   "display_name": "Python [conda env:aap]",
   "language": "python",
   "name": "conda-env-aap-py"
  },
  "language_info": {
   "codemirror_mode": {
    "name": "ipython",
    "version": 3
   },
   "file_extension": ".py",
   "mimetype": "text/x-python",
   "name": "python",
   "nbconvert_exporter": "python",
   "pygments_lexer": "ipython3",
   "version": "3.7.13"
  },
  "toc-autonumbering": true
 },
 "nbformat": 4,
 "nbformat_minor": 4
}
