{
 "cells": [
  {
   "cell_type": "markdown",
   "metadata": {
    "Collapsed": "false"
   },
   "source": [
    "# Homework 2\n",
    "\n",
    "Data wrangling CSV files in excel using python"
   ]
  },
  {
   "cell_type": "markdown",
   "metadata": {
    "Collapsed": "false"
   },
   "source": [
    "## Preliminaries"
   ]
  },
  {
   "cell_type": "code",
   "execution_count": 1,
   "metadata": {
    "Collapsed": "false"
   },
   "outputs": [],
   "source": [
    "# To auto-reload modules in jupyter notebook (so that changes in files *.py doesn't require manual reloading):\n",
    "# https://stackoverflow.com/questions/5364050/reloading-submodules-in-ipython\n",
    "%load_ext autoreload\n",
    "%autoreload 2"
   ]
  },
  {
   "cell_type": "markdown",
   "metadata": {
    "Collapsed": "false"
   },
   "source": [
    "Import commonly used libraries and magic command for inline plotting"
   ]
  },
  {
   "cell_type": "code",
   "execution_count": 18,
   "metadata": {
    "Collapsed": "false"
   },
   "outputs": [],
   "source": [
    "import numpy as np\n",
    "import pandas as pd\n",
    "import matplotlib.pyplot as plt\n",
    "import seaborn as sns\n"
   ]
  },
  {
   "cell_type": "code",
   "execution_count": 5,
   "metadata": {},
   "outputs": [],
   "source": [
    "%matplotlib inline"
   ]
  },
  {
   "cell_type": "markdown",
   "metadata": {
    "Collapsed": "false"
   },
   "source": [
    "## Work\n",
    "\n",
    "This is where work gets done."
   ]
  },
  {
   "cell_type": "code",
   "execution_count": 1,
   "metadata": {
    "Collapsed": "false"
   },
   "outputs": [],
   "source": [
    "from openpyxl import Workbook\n",
    "wb = Workbook()"
   ]
  },
  {
   "cell_type": "code",
   "execution_count": 2,
   "metadata": {},
   "outputs": [],
   "source": [
    "ws = wb.active\n",
    "wb.save(\"BCM.xlsx\")"
   ]
  },
  {
   "cell_type": "code",
   "execution_count": 3,
   "metadata": {},
   "outputs": [],
   "source": [
    "import os\n",
    "from glob import glob"
   ]
  },
  {
   "cell_type": "code",
   "execution_count": 4,
   "metadata": {},
   "outputs": [
    {
     "name": "stdout",
     "output_type": "stream",
     "text": [
      "C:\\Users\\JesRay\\Documents\\AAP_class\\HW2\\hw2_wrangling_csv\\hw2_wrangling_csv\n",
      "<class 'str'>\n",
      "['BCM-E-tCenter-Deep.csv', 'BCM-E-tCenter-Medium.csv', 'BCM-E-tCenter-Shallow.csv', 'BCM-E-tLeft-Deep.csv', 'BCM-E-tLeft-Medium.csv', 'BCM-E-tRight-Deep.csv', 'BCM-E-tRight-Medium.csv', 'BCM-N-tCenter-Deep.csv', 'BCM-N-tCenter-Medium.csv', 'BCM-N-tLeft-Deep.csv', 'BCM-N-tLeft-Medium.csv', 'BCM-N-tRight-Deep.csv', 'BCM-N-tRight-Medium.csv', 'BCM-N-tRight-Shallow.csv', 'raw']\n",
      "./data\\BCM-E-tCenter-Deep.csv\n",
      "./data\\BCM-E-tCenter-Medium.csv\n",
      "./data\\BCM-E-tCenter-Shallow.csv\n",
      "./data\\BCM-E-tLeft-Deep.csv\n",
      "./data\\BCM-E-tLeft-Medium.csv\n",
      "./data\\BCM-E-tRight-Deep.csv\n",
      "./data\\BCM-E-tRight-Medium.csv\n",
      "./data\\BCM-N-tCenter-Deep.csv\n",
      "./data\\BCM-N-tCenter-Medium.csv\n",
      "./data\\BCM-N-tLeft-Deep.csv\n",
      "./data\\BCM-N-tLeft-Medium.csv\n",
      "./data\\BCM-N-tRight-Deep.csv\n",
      "./data\\BCM-N-tRight-Medium.csv\n",
      "./data\\BCM-N-tRight-Shallow.csv\n"
     ]
    }
   ],
   "source": [
    "# Retrieve current working directory (`cwd`)\n",
    "cwd = os.getcwd()\n",
    "print(cwd)\n",
    "print(type(cwd))\n",
    "\n",
    "# List all files and directories in data directory\n",
    "print(os.listdir(\"./data\"))\n",
    "\n",
    "# Use glob to get all the csv filenames\n",
    "for csv_fn in glob(\"./data/*.csv\"):\n",
    "    print(csv_fn)"
   ]
  },
  {
   "cell_type": "code",
   "execution_count": 5,
   "metadata": {},
   "outputs": [],
   "source": [
    "from pathlib import Path"
   ]
  },
  {
   "cell_type": "code",
   "execution_count": 6,
   "metadata": {},
   "outputs": [
    {
     "data": {
      "text/plain": [
       "WindowsPath('C:/Users/JesRay/Documents/AAP_class/HW2/hw2_wrangling_csv/hw2_wrangling_csv')"
      ]
     },
     "execution_count": 6,
     "metadata": {},
     "output_type": "execute_result"
    }
   ],
   "source": [
    "Path.cwd()"
   ]
  },
  {
   "cell_type": "code",
   "execution_count": 7,
   "metadata": {},
   "outputs": [
    {
     "data": {
      "text/plain": [
       "WindowsPath('C:/Users/JesRay/Documents/AAP_class/HW2/hw2_wrangling_csv/hw2_wrangling_csv/data')"
      ]
     },
     "execution_count": 7,
     "metadata": {},
     "output_type": "execute_result"
    }
   ],
   "source": [
    "data_dir = Path.cwd() / \"data\"\n",
    "data_dir"
   ]
  },
  {
   "cell_type": "code",
   "execution_count": 8,
   "metadata": {},
   "outputs": [
    {
     "data": {
      "text/plain": [
       "<generator object Path.glob at 0x000001333C57C3C8>"
      ]
     },
     "execution_count": 8,
     "metadata": {},
     "output_type": "execute_result"
    }
   ],
   "source": [
    "data_dir.glob('*.csv')"
   ]
  },
  {
   "cell_type": "code",
   "execution_count": 9,
   "metadata": {},
   "outputs": [
    {
     "name": "stdout",
     "output_type": "stream",
     "text": [
      "C:\\Users\\JesRay\\Documents\\AAP_class\\HW2\\hw2_wrangling_csv\\hw2_wrangling_csv\\data\\BCM-E-tCenter-Deep.csv\n",
      "C:\\Users\\JesRay\\Documents\\AAP_class\\HW2\\hw2_wrangling_csv\\hw2_wrangling_csv\\data\\BCM-E-tCenter-Medium.csv\n",
      "C:\\Users\\JesRay\\Documents\\AAP_class\\HW2\\hw2_wrangling_csv\\hw2_wrangling_csv\\data\\BCM-E-tCenter-Shallow.csv\n",
      "C:\\Users\\JesRay\\Documents\\AAP_class\\HW2\\hw2_wrangling_csv\\hw2_wrangling_csv\\data\\BCM-E-tLeft-Deep.csv\n",
      "C:\\Users\\JesRay\\Documents\\AAP_class\\HW2\\hw2_wrangling_csv\\hw2_wrangling_csv\\data\\BCM-E-tLeft-Medium.csv\n",
      "C:\\Users\\JesRay\\Documents\\AAP_class\\HW2\\hw2_wrangling_csv\\hw2_wrangling_csv\\data\\BCM-E-tRight-Deep.csv\n",
      "C:\\Users\\JesRay\\Documents\\AAP_class\\HW2\\hw2_wrangling_csv\\hw2_wrangling_csv\\data\\BCM-E-tRight-Medium.csv\n",
      "C:\\Users\\JesRay\\Documents\\AAP_class\\HW2\\hw2_wrangling_csv\\hw2_wrangling_csv\\data\\BCM-N-tCenter-Deep.csv\n",
      "C:\\Users\\JesRay\\Documents\\AAP_class\\HW2\\hw2_wrangling_csv\\hw2_wrangling_csv\\data\\BCM-N-tCenter-Medium.csv\n",
      "C:\\Users\\JesRay\\Documents\\AAP_class\\HW2\\hw2_wrangling_csv\\hw2_wrangling_csv\\data\\BCM-N-tLeft-Deep.csv\n",
      "C:\\Users\\JesRay\\Documents\\AAP_class\\HW2\\hw2_wrangling_csv\\hw2_wrangling_csv\\data\\BCM-N-tLeft-Medium.csv\n",
      "C:\\Users\\JesRay\\Documents\\AAP_class\\HW2\\hw2_wrangling_csv\\hw2_wrangling_csv\\data\\BCM-N-tRight-Deep.csv\n",
      "C:\\Users\\JesRay\\Documents\\AAP_class\\HW2\\hw2_wrangling_csv\\hw2_wrangling_csv\\data\\BCM-N-tRight-Medium.csv\n",
      "C:\\Users\\JesRay\\Documents\\AAP_class\\HW2\\hw2_wrangling_csv\\hw2_wrangling_csv\\data\\BCM-N-tRight-Shallow.csv\n"
     ]
    }
   ],
   "source": [
    "for f in data_dir.glob('*.csv'):\n",
    "    print(f)"
   ]
  },
  {
   "cell_type": "code",
   "execution_count": 10,
   "metadata": {},
   "outputs": [
    {
     "name": "stdout",
     "output_type": "stream",
     "text": [
      "filename = BCM-E-tCenter-Deep.csv, stem = BCM-E-tCenter-Deep, suffix = .csv\n",
      "filename = BCM-E-tCenter-Medium.csv, stem = BCM-E-tCenter-Medium, suffix = .csv\n",
      "filename = BCM-E-tCenter-Shallow.csv, stem = BCM-E-tCenter-Shallow, suffix = .csv\n",
      "filename = BCM-E-tLeft-Deep.csv, stem = BCM-E-tLeft-Deep, suffix = .csv\n",
      "filename = BCM-E-tLeft-Medium.csv, stem = BCM-E-tLeft-Medium, suffix = .csv\n",
      "filename = BCM-E-tRight-Deep.csv, stem = BCM-E-tRight-Deep, suffix = .csv\n",
      "filename = BCM-E-tRight-Medium.csv, stem = BCM-E-tRight-Medium, suffix = .csv\n",
      "filename = BCM-N-tCenter-Deep.csv, stem = BCM-N-tCenter-Deep, suffix = .csv\n",
      "filename = BCM-N-tCenter-Medium.csv, stem = BCM-N-tCenter-Medium, suffix = .csv\n",
      "filename = BCM-N-tLeft-Deep.csv, stem = BCM-N-tLeft-Deep, suffix = .csv\n",
      "filename = BCM-N-tLeft-Medium.csv, stem = BCM-N-tLeft-Medium, suffix = .csv\n",
      "filename = BCM-N-tRight-Deep.csv, stem = BCM-N-tRight-Deep, suffix = .csv\n",
      "filename = BCM-N-tRight-Medium.csv, stem = BCM-N-tRight-Medium, suffix = .csv\n",
      "filename = BCM-N-tRight-Shallow.csv, stem = BCM-N-tRight-Shallow, suffix = .csv\n"
     ]
    }
   ],
   "source": [
    "for f in data_dir.glob('*.csv'):\n",
    "    print(f\"filename = {f.name}, stem = {f.stem}, suffix = {f.suffix}\")"
   ]
  },
  {
   "cell_type": "code",
   "execution_count": 27,
   "metadata": {},
   "outputs": [],
   "source": [
    "sheet_1 = pd.read_csv('data/BCM-E-tCenter-Deep.csv', names=('datetime', 'scale', 'temperature'))"
   ]
  },
  {
   "cell_type": "code",
   "execution_count": 28,
   "metadata": {},
   "outputs": [
    {
     "data": {
      "text/html": [
       "<div>\n",
       "<style scoped>\n",
       "    .dataframe tbody tr th:only-of-type {\n",
       "        vertical-align: middle;\n",
       "    }\n",
       "\n",
       "    .dataframe tbody tr th {\n",
       "        vertical-align: top;\n",
       "    }\n",
       "\n",
       "    .dataframe thead th {\n",
       "        text-align: right;\n",
       "    }\n",
       "</style>\n",
       "<table border=\"1\" class=\"dataframe\">\n",
       "  <thead>\n",
       "    <tr style=\"text-align: right;\">\n",
       "      <th></th>\n",
       "      <th>datetime</th>\n",
       "      <th>scale</th>\n",
       "      <th>temperature</th>\n",
       "    </tr>\n",
       "  </thead>\n",
       "  <tbody>\n",
       "    <tr>\n",
       "      <th>0</th>\n",
       "      <td>8/19/2012 12:17</td>\n",
       "      <td>C</td>\n",
       "      <td>20.0</td>\n",
       "    </tr>\n",
       "    <tr>\n",
       "      <th>1</th>\n",
       "      <td>8/19/2012 13:17</td>\n",
       "      <td>C</td>\n",
       "      <td>20.0</td>\n",
       "    </tr>\n",
       "    <tr>\n",
       "      <th>2</th>\n",
       "      <td>8/19/2012 14:17</td>\n",
       "      <td>C</td>\n",
       "      <td>20.5</td>\n",
       "    </tr>\n",
       "    <tr>\n",
       "      <th>3</th>\n",
       "      <td>8/19/2012 15:17</td>\n",
       "      <td>C</td>\n",
       "      <td>21.0</td>\n",
       "    </tr>\n",
       "    <tr>\n",
       "      <th>4</th>\n",
       "      <td>8/19/2012 16:17</td>\n",
       "      <td>C</td>\n",
       "      <td>21.0</td>\n",
       "    </tr>\n",
       "  </tbody>\n",
       "</table>\n",
       "</div>"
      ],
      "text/plain": [
       "          datetime scale  temperature\n",
       "0  8/19/2012 12:17     C         20.0\n",
       "1  8/19/2012 13:17     C         20.0\n",
       "2  8/19/2012 14:17     C         20.5\n",
       "3  8/19/2012 15:17     C         21.0\n",
       "4  8/19/2012 16:17     C         21.0"
      ]
     },
     "execution_count": 28,
     "metadata": {},
     "output_type": "execute_result"
    }
   ],
   "source": [
    "sheet_1.head()"
   ]
  }
 ],
 "metadata": {
  "kernelspec": {
   "display_name": "Python [conda env:aap]",
   "language": "python",
   "name": "conda-env-aap-py"
  },
  "language_info": {
   "codemirror_mode": {
    "name": "ipython",
    "version": 3
   },
   "file_extension": ".py",
   "mimetype": "text/x-python",
   "name": "python",
   "nbconvert_exporter": "python",
   "pygments_lexer": "ipython3",
   "version": "3.7.13"
  },
  "toc-autonumbering": true
 },
 "nbformat": 4,
 "nbformat_minor": 4
}
